import matplotlib
import pandas as pd
import matplotlib.pylab as plt
import numpy as np

df = pd.read_csv("dataset.csv")
print("\n",df.head(10))
print("\n",df.tail())
print("\n",df.info())
df.describe()
print("\n",df.isnull())
print("\n",df.isnull().sum())
print("\n",df.notnull())
print("\n",df.notnull().sum())

#caLculate the mean value for "stroke" column
avg_stroke = df["stroke"].astype("float").mean(axis =0)
print("\n Average of stroke :",avg_stroke)

#replace NaN by mean value in "stroke" column
df["stroke"].replace(np.nan, avg_stroke,inplace =True)

#Calculate the mean value for the 'horsepower' column :
avg_hp=df["horsepower"].astype("float").mean(axis = 0)
print("\n Average of stroke :",avg_hp)

df['horsepower'].replace(np.nan,avg_hp,inplace = True)
from contextlib import nullcontext
print("\n",df['num-of-doors'].value_counts())
print("\n",df['num-of-doors'].value_counts().idxmax())


# replace the missing 'num-of-door' values by most frequent
df['num-of-doors'].replace(np.nan, "four" , inplace=True)


#simply drop whole row with nan in "Horsepower-banned" column
df.dropna(subset=['horsepower-binned'], axis=0 , inplace=True)


#reset index, because we dropped two rows
df.reset_index(drop=True, inplace=True)
print(df.isnull().sum())

#DATA STANDARDIZATION : It is process of transforming data into common
# format which allowsthe researcher to make meaningful comparision

df['city-L/100km']=235/df['city-mpg']
print("\n",df.head())

df['highway-L/100km']=235/df["highway-mpg"]
print("\n",df['highway-L/100km'].head())

#DATA NORMALIZATION : It is process of transforming several values into similar range
df['length']=df['length']/df['length'].max()
df['width']=df['width']/df['width'].max()
df['height']=df['height']/df['height'].max()

print(df[['length','width','height']].head())

#INDICATOR VARIABLE : Indicator variable or dummy variable are used to
# label numerical variableused to label categories
print(df.columns)

print(df['aspiration'].value_counts())
dummy_var_1=pd.get_dummies(df['aspiration'])
print(dummy_var_1.head())
df=pd.concat([df,dummy_var_1], axis=1)
df.drop('aspiration',axis =1, inplace =True)
print("\n",df.head())
print(df.columns)

# BINNING:
# It is process of transforming continous data into discrete categorical 'bins' for groupanalysis

df ["horsepower"]=df ["horsepower"].astype(float, copy=True)

#%matplotlib inline
import matplotlib.pyplot as plt

plt.hist(df['wheel-base'])
plt.xlabel('wheel-base')
plt.ylabel('count')
plt.title('wheel-base bins')
plt.show()


bins = np.linspace(min(df['wheel-base']),max(df['wheel-base']),4)
print(bins)
